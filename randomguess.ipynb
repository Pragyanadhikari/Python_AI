{
 "cells": [
  {
   "cell_type": "code",
   "execution_count": 4,
   "id": "c86f3916",
   "metadata": {},
   "outputs": [],
   "source": [
    "import random"
   ]
  },
  {
   "cell_type": "code",
   "execution_count": null,
   "id": "e35b4c66",
   "metadata": {},
   "outputs": [],
   "source": []
  },
  {
   "cell_type": "code",
   "execution_count": 5,
   "id": "8e60884f",
   "metadata": {},
   "outputs": [
    {
     "name": "stdout",
     "output_type": "stream",
     "text": [
      "Enter your guess79\n",
      "Your guess is close and guess is lower.\n",
      "Enter your guess83\n",
      "Your guess is close and guess is lower.\n",
      "Enter your guess85\n",
      "Your guess is close and guess is lower.\n",
      "Enter your guess89\n",
      "Your guess is close and guess is upper.\n",
      "Enter your guess87\n",
      "Your guess is close and guess is upper.\n",
      "Enter your guess88\n",
      "Your guess is close and guess is upper.\n",
      "Enter your guess86\n",
      "Congratulation!!You guessed the number in 7 tries.\n"
     ]
    }
   ],
   "source": [
    "def check(a,count):\n",
    "       \n",
    "    \n",
    "    b=int(input(\"Enter your guess\"))\n",
    "    count+=1\n",
    "    if a==b:\n",
    "        print(\"Congratulation!!You guessed the number in \"+ str(count)+\" tries.\")\n",
    "        return 0\n",
    "    else:\n",
    "        if(abs(a-b)>50):\n",
    "            if(a>b):\n",
    "                print(\"Your guess is too far and guess is lower.\")\n",
    "            else:\n",
    "                print(\"Your guess is too far and guess is upper.\")\n",
    "        elif(abs(a-b)>30):\n",
    "            if(a>b):\n",
    "                print(\"Your guess is far and guess is lower.\")\n",
    "            else:\n",
    "                print(\"Your guess is far and guess is upper.\")\n",
    "        elif(abs(a-b)>10):\n",
    "            if(a>b):\n",
    "                print(\"Your guess is near and guess is lower.\")\n",
    "            else:\n",
    "                print(\"Your guess is near and guess is upper.\")\n",
    "            \n",
    "        elif(abs(a-b)<10):\n",
    "            if(a>b):\n",
    "                print(\"Your guess is close and guess is lower.\")\n",
    "            else:\n",
    "                print(\"Your guess is close and guess is upper.\")\n",
    "    check(a,count)\n",
    "a= random.randint(1,100)\n",
    "count=0\n",
    "check(a,count)"
   ]
  },
  {
   "cell_type": "code",
   "execution_count": null,
   "id": "d15ec5e6",
   "metadata": {},
   "outputs": [],
   "source": []
  },
  {
   "cell_type": "code",
   "execution_count": null,
   "id": "9aa4273a",
   "metadata": {},
   "outputs": [],
   "source": []
  }
 ],
 "metadata": {
  "kernelspec": {
   "display_name": "Python 3 (ipykernel)",
   "language": "python",
   "name": "python3"
  },
  "language_info": {
   "codemirror_mode": {
    "name": "ipython",
    "version": 3
   },
   "file_extension": ".py",
   "mimetype": "text/x-python",
   "name": "python",
   "nbconvert_exporter": "python",
   "pygments_lexer": "ipython3",
   "version": "3.11.5"
  }
 },
 "nbformat": 4,
 "nbformat_minor": 5
}
