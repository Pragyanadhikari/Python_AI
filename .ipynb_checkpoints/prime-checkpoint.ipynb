{
 "cells": [
  {
   "cell_type": "code",
   "execution_count": 11,
   "id": "6efdb87a",
   "metadata": {},
   "outputs": [],
   "source": [
    "def prime(a,b):\n",
    "    print (\"the prime number in range are:\")\n",
    "    for j in range(a,b):\n",
    "        count=0\n",
    "        for i in range(2,j):\n",
    "            if j %i == 0:\n",
    "                count+=1\n",
    "        if count ==0 :\n",
    "            print(j)\n",
    "        "
   ]
  },
  {
   "cell_type": "code",
   "execution_count": 16,
   "id": "2ea855c8",
   "metadata": {},
   "outputs": [
    {
     "name": "stdout",
     "output_type": "stream",
     "text": [
      "Enter range of number :5\n",
      "45\n",
      "the prime number in range are:\n",
      "5\n",
      "7\n",
      "11\n",
      "13\n",
      "17\n",
      "19\n",
      "23\n",
      "29\n",
      "31\n",
      "37\n",
      "41\n",
      "43\n"
     ]
    }
   ],
   "source": [
    "a=int(input(\"Enter range of number :\"))\n",
    "b=int(input())\n",
    "prime(a,b+1)"
   ]
  },
  {
   "cell_type": "code",
   "execution_count": null,
   "id": "72a3e753",
   "metadata": {},
   "outputs": [],
   "source": []
  }
 ],
 "metadata": {
  "kernelspec": {
   "display_name": "Python 3 (ipykernel)",
   "language": "python",
   "name": "python3"
  },
  "language_info": {
   "codemirror_mode": {
    "name": "ipython",
    "version": 3
   },
   "file_extension": ".py",
   "mimetype": "text/x-python",
   "name": "python",
   "nbconvert_exporter": "python",
   "pygments_lexer": "ipython3",
   "version": "3.11.5"
  }
 },
 "nbformat": 4,
 "nbformat_minor": 5
}
