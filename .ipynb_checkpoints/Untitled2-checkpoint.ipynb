{
 "cells": [
  {
   "cell_type": "code",
   "execution_count": null,
   "id": "19d5d557",
   "metadata": {},
   "outputs": [],
   "source": [
    "import random\n",
    "import os\n"
   ]
  },
  {
   "cell_type": "code",
   "execution_count": null,
   "id": "e842c5f1",
   "metadata": {},
   "outputs": [],
   "source": []
  },
  {
   "cell_type": "code",
   "execution_count": null,
   "id": "5978a7b0",
   "metadata": {},
   "outputs": [],
   "source": [
    "def check(a,count):\n",
    "       \n",
    "    \n",
    "    b=int(input(\"Enter your guess\"))\n",
    "    count+=1\n",
    "    if a==b:\n",
    "        print(\"Congratulation!!You guessed the number in \"+ str(count)+\" tries.\")\n",
    "        os.system('cls')\n",
    "    else:\n",
    "        if(abs(a-b)>50):\n",
    "            if(a>b):\n",
    "                print(\"Your guess is too far and guess is lower.\")\n",
    "            else:\n",
    "                print(\"Your guess is too far and guess is upper.\")\n",
    "        elif(abs(a-b)>30):\n",
    "            if(a>b):\n",
    "                print(\"Your guess is far and guess is lower.\")\n",
    "            else:\n",
    "                print(\"Your guess is far and guess is upper.\")\n",
    "        elif(abs(a-b)>10):\n",
    "            if(a>b):\n",
    "                print(\"Your guess is near and guess is lower.\")\n",
    "            else:\n",
    "                print(\"Your guess is near and guess is upper.\")\n",
    "            \n",
    "        elif(abs(a-b)<10):\n",
    "            if(a>b):\n",
    "                print(\"Your guess is close and guess is lower.\")\n",
    "            else:\n",
    "                print(\"Your guess is close and guess is upper.\")\n",
    "    check(a,count)"
   ]
  },
  {
   "cell_type": "code",
   "execution_count": null,
   "id": "134c34da",
   "metadata": {},
   "outputs": [],
   "source": []
  }
 ],
 "metadata": {
  "kernelspec": {
   "display_name": "Python 3 (ipykernel)",
   "language": "python",
   "name": "python3"
  },
  "language_info": {
   "codemirror_mode": {
    "name": "ipython",
    "version": 3
   },
   "file_extension": ".py",
   "mimetype": "text/x-python",
   "name": "python",
   "nbconvert_exporter": "python",
   "pygments_lexer": "ipython3",
   "version": "3.11.5"
  }
 },
 "nbformat": 4,
 "nbformat_minor": 5
}
